{
  "nbformat": 4,
  "nbformat_minor": 0,
  "metadata": {
    "colab": {
      "provenance": []
    },
    "kernelspec": {
      "name": "python3",
      "display_name": "Python 3"
    },
    "language_info": {
      "name": "python"
    }
  },
  "cells": [
    {
      "cell_type": "markdown",
      "source": [
        "(a)\n",
        "Let X be the number of points in T that map to the same bucket as z under a random hash function gi.\n",
        "\n",
        "Then, X is a random variable that follows a binomial distribution with parameters |Wj| and p = Pr[gj(x) = gj(z)].\n",
        "\n",
        "So, E[X] = |Wj|p and we can use Markov's inequality to bound Pr(X >= 3).\n",
        "Pr(X >= 3) = Pr(X >= 3E[X]/E[X]) <= E[X]/3E[X] = 1/3\n",
        "\n",
        "By the union bound, the probability that there exists a j for which |T ∩ Wj| < 3 is at most L/3.\n",
        "\n",
        "Therefore, the probability that there exists a bucket that has less than 3 points in T and maps to the same bucket as z is at most L/3.\n",
        "\n",
        "(b)\n",
        "Let x∗ be the point in the dataset such that d(x∗, z) ≤ λ.\n",
        "\n",
        "Pr[gj(x∗) != gj(z)] = 1 - Pr[gj(x∗) = gj(z)]\n",
        "\n",
        "For gj to map x∗ to the same bucket as z, all k hash functions in gj must map x∗ and z to the same bucket.\n",
        "\n",
        "Since gj is (λ, cλ, p1, p2)-sensitive, Pr[gj(x) = gj(z)] <= p1 if d(x,z) <= λ, and Pr[gj(x) = gj(z)] <= p2 if d(x,z) <= cλ.\n",
        "\n",
        "Therefore, Pr[gj(x∗) = gj(z)] >= 1 - p1^k - (1 - p2^k)^(n-1)\n",
        "\n",
        "Using the inequality 1 - x <= e^(-x), we have\n",
        "\n",
        "Pr[gj(x∗) = gj(z)] >= 1 - e^(-k/p1 * ln n) - e^(-k/p2 * ln n)\n",
        "\n",
        "Taking the union bound over all L hash functions, we have\n",
        "\n",
        "Pr[∀1 <= j <= L, gj(x∗) != gj(z)] <= L * (1 - e^(-k/p1 * ln n) - e^(-k/p2 * ln n))\n",
        " \n",
        " (c)\n",
        "To show that the reported point is an actual (c, λ)-ANN with constant probability, we need to prove that the probability of not finding an (c, λ)-ANN is bounded by some constant. Let P be the probability of not finding an (c, λ)-ANN.\n",
        "\n",
        "We know that the probability of a point being hashed into a particular bucket is at most p1. Therefore, the probability of a point not being hashed into a particular bucket is at least 1 − p1. The probability that a query point z is not hashed into a particular bucket is at most (1 − p1)^L. Hence, the probability that a query point is hashed into a particular bucket is at least 1 − (1 − p1)^L.\n",
        "\n",
        "Since the procedure retrieves at most 3L data points from the set of L buckets to which the query point hashes, the probability of not retrieving the nearest point with distance at most cλ is at most (1 − (1 − p1)^L)^(3L).\n",
        "We want to bound the above probability by some constant. Using the binomial theorem, we have (1 − x)^n ≤ e^(-nx) for any x ∈ [0, 1]. Applying this to our case, we have\n",
        "\n",
        "P ≤ (1 − (1 − p1)^L)^(3L) ≤ e^(-3L(1-p1)^L) ≤ e^(-3p1^L).\n",
        "Therefore, P is bounded by e^(-3p1^L), which is a constant when L is fixed. Hence, the probability of not finding an (c, λ)-ANN is bounded by a constant.\n"
      ],
      "metadata": {
        "id": "kAm7q0GBjAiJ"
      }
    },
    {
      "cell_type": "code",
      "source": [
        "# Authors: Jessica Su, Wanzi Zhou, Pratyaksh Sharma, Dylan Liu, Ansh Shukla\n",
        "#Modified: Alex Porter\n",
        "import numpy as np\n",
        "import random\n",
        "import time\n",
        "import pdb\n",
        "import unittest\n",
        "from PIL import Image\n",
        "import itertools\n",
        "from collections import OrderedDict\n",
        "from statistics import mean\n",
        "\n",
        "# Finds the L1 distance between two vectors\n",
        "# u and v are 1-dimensional np.array objects\n",
        "# TODO: Implement this\n",
        "def l1(u, v):\n",
        "  dist = np.linalg.norm(u-v)\n",
        "  return dist\n",
        "     \n",
        "# Loads the data into a np array, where each row corresponds to\n",
        "# an image patch -- this step is sort of slow.\n",
        "# Each row in the data is an image, and there are 400 columns.\n",
        "def load_data():\n",
        "  filename = '/content/drive/MyDrive/patches.csv'\n",
        "  return np.genfromtxt(filename, delimiter=',')\n",
        "A = load_data()\n",
        "     \n",
        "# Creates a hash function from a list of dimensions and thresholds.\n",
        "def create_function(dimensions, thresholds):\n",
        "    def f(v):\n",
        "        boolarray = [v[dimensions[i]] >= thresholds[i] for i in range(len(dimensions))]\n",
        "        return \"\".join(map(str, map(int, boolarray)))\n",
        "    return f\n",
        "\n",
        "# Creates the LSH functions (functions that compute L K-bit hash keys).\n",
        "# Each function selects k dimensions (i.e. column indices of the image matrix)\n",
        "# at random, and then chooses a random threshold for each dimension, between 0 and\n",
        "# 255.  For any image, if its value on a given dimension is greater than or equal to\n",
        "# the randomly chosen threshold, we set that bit to 1.  Each hash function returns\n",
        "# a length-k bit string of the form \"0101010001101001...\", and the L hash functions \n",
        "# will produce L such bit strings for each image.\n",
        "def create_functions(k, L, num_dimensions=400, min_threshold=0, max_threshold=255):\n",
        "    functions = []\n",
        "    for i in range(L):\n",
        "        dimensions = np.random.randint(low = 0, \n",
        "                                   high = num_dimensions,\n",
        "                                   size = k)\n",
        "        thresholds = np.random.randint(low = min_threshold, \n",
        "                                   high = max_threshold + 1, \n",
        "                                   size = k)\n",
        "\n",
        "        functions.append(create_function(dimensions, thresholds))\n",
        "    return functions\n",
        "\n",
        "# Hashes an individual vector (i.e. image).  This produces an array with L\n",
        "# entries, where each entry is a string of k bits.\n",
        "def hash_vector(functions, v):\n",
        "    return np.array([f(v) for f in functions])\n",
        "\n",
        "# Hashes the data in A, where each row is a datapoint, using the L\n",
        "# functions in \"functions.\"\n",
        "def hash_data(functions, A):\n",
        "    return np.array(list(map(lambda v: hash_vector(functions, v), A)))\n",
        "\n",
        "# Retrieve all of the points that hash to one of the same buckets \n",
        "# as the query point.  Do not do any random sampling (unlike what the first\n",
        "# part of this problem prescribes).\n",
        "# Don't retrieve a point if it is the same point as the query point.\n",
        "def get_candidates(hashed_A, hashed_point, query_index):\n",
        "    return filter(lambda i: i != query_index and \\\n",
        "        any(hashed_point == hashed_A[i]), range(len(hashed_A)))\n",
        "\n",
        "# Sets up the LSH.  You should try to call this function as few times as \n",
        "# possible, since it is expensive.\n",
        "# A: The dataset in which each row is an image patch.\n",
        "# Return the LSH functions and hashed data structure.\n",
        "def lsh_setup(A, k, L):\n",
        "    functions = create_functions(k = k, L = L)\n",
        "    hashed_A = hash_data(functions, A)\n",
        "    return (functions, hashed_A)\n",
        "functions,hashed_A = lsh_setup(A,24, 10)\n",
        "\n",
        "# Run the entire LSH algorithm\n",
        "def lsh_search(A, hashed_A, functions, query_index, num_neighbors):\n",
        "    hashed_point = hash_vector(functions, A[query_index, :])\n",
        "    candidate_row_nums = get_candidates(hashed_A, hashed_point, query_index)\n",
        "    distances = map(lambda r: (r, l1(A[r], A[query_index])), candidate_row_nums)\n",
        "    best_neighbors = sorted(distances, key=lambda t: t[1])[:num_neighbors]\n",
        "    return [t[0] for t in best_neighbors]\n",
        "\n",
        "# Plots images at the specified rows and saves them each to files.\n",
        "def plot(A, row_nums, base_filename):\n",
        "    for row_num in row_nums:\n",
        "        patch = np.reshape(A[row_num, :], [20, 20])\n",
        "        im = Image.fromarray(patch)\n",
        "        if im.mode != 'RGB':\n",
        "            im = im.convert('RGB')\n",
        "        im.save(base_filename + \"-\" + str(row_num) + \".png\")\n",
        "\n",
        "# Finds the nearest neighbors to a given vector, using linear search.\n",
        "def linear_search(A,query_index,num_neighbors):\n",
        "    distances = {}\n",
        "    for i in range(len(A)):\n",
        "        if query_index == i:\n",
        "            continue\n",
        "        else:\n",
        "            distance = l1(A[i],A[query_index])\n",
        "            distances.update({i:distance})\n",
        "    sorted_distances = OrderedDict(sorted(distances.items(), key=lambda x: x[1]))\n",
        "    return dict(itertools.islice(sorted_distances.items(), num_neighbors))\n",
        "\n"
      ],
      "metadata": {
        "id": "V5dyYdm1W6NS"
      },
      "execution_count": 12,
      "outputs": []
    },
    {
      "cell_type": "markdown",
      "source": [
        "##1) Average Search time for LSH and Linear Search.\n"
      ],
      "metadata": {
        "id": "o-WW2sLpcyyJ"
      }
    },
    {
      "cell_type": "code",
      "source": [
        "query_indices = [100,200,300,400,500,600,700,800,900,1000]\n",
        "lshresults = []\n",
        "lsresults = {}\n",
        "endtimelsh = []\n",
        "endtimels = []\n",
        "for i in query_indices:\n",
        "    start_time_lsh = time.time()\n",
        "    lsh_search_result = lsh_search(A,hashed_A,functions,i,10)\n",
        "    end_time_lsh = time.time()\n",
        "    time_elapsed_lsh = (end_time_lsh - start_time_lsh)\n",
        "    endtimelsh.append(time_elapsed_lsh)\n",
        "    lshresults.append(lsh_search_result)\n",
        "    start_time_ls = time.time()\n",
        "    linear_search_result = linear_search(A,i,10)\n",
        "    end_time_ls = time.time()\n",
        "    time_elapsed_ls = (end_time_ls - start_time_ls)\n",
        "    endtimels.append(time_elapsed_ls)\n",
        "    lsresults.update({i:linear_search_result})\n",
        "    print(\"LSH\",lsh_search_result)\n",
        "    print(time_elapsed_lsh)\n",
        "    print(\"--------------------------------------------------------\")\n",
        "    print(\"Linear Search\",linear_search_result)\n",
        "    print(time_elapsed_ls,\"\\n\")\n",
        "print(\"\\n\\n\")\n",
        "print(\"The average runtime for LSH Search : \", mean(endtimelsh))\n",
        "print(\"The average runtime for Linear Search : \", mean(endtimels))"
      ],
      "metadata": {
        "colab": {
          "base_uri": "https://localhost:8080/"
        },
        "id": "FMul79Fgc06U",
        "outputId": "dde8d2f4-7ffe-4899-c441-d2bbbb2179e0"
      },
      "execution_count": 13,
      "outputs": [
        {
          "output_type": "stream",
          "name": "stdout",
          "text": [
            "LSH [8196, 10123, 10873, 16007, 14710, 7464, 42395, 23398, 18531, 12444]\n",
            "0.18990087509155273\n",
            "--------------------------------------------------------\n",
            "Linear Search {8196: 502.3136470373864, 28351: 505.9456492549373, 21780: 517.2774883947686, 14383: 521.3616786838097, 37765: 523.9093433028276, 24374: 524.8466442685901, 18866: 527.2570530585627, 28251: 528.7210985009015, 25289: 531.9389062664998, 10123: 532.4030428162483}\n",
            "0.5882713794708252 \n",
            "\n",
            "LSH [41237, 3259, 29385, 3247, 35700, 52040, 52071, 52014, 348, 29849]\n",
            "0.1616365909576416\n",
            "--------------------------------------------------------\n",
            "Linear Search {39581: 750.484510166599, 3692: 758.9993412381858, 41588: 761.4151298733169, 15314: 767.2098800198027, 3618: 768.7808530394082, 1888: 768.8751524142265, 11611: 769.5238787718026, 52134: 771.5996371175922, 51943: 772.1696704740481, 28688: 774.5998967208814}\n",
            "0.5623927116394043 \n",
            "\n",
            "LSH [8410, 16448, 17578, 22509, 26780, 7449, 42471, 54243, 8198, 13931]\n",
            "0.2284083366394043\n",
            "--------------------------------------------------------\n",
            "Linear Search {15818: 655.212942485113, 9006: 687.0123725232319, 8410: 692.2788455528596, 16448: 701.4078699301855, 39158: 704.2769341672351, 17578: 712.4043795485819, 7447: 716.0432947804204, 22509: 716.1396511854374, 22057: 719.8451222311644, 24489: 720.7322665178797}\n",
            "0.9247221946716309 \n",
            "\n",
            "LSH [30940, 22311, 53810, 39538, 2071, 47956, 47973, 52243, 40389, 34940]\n",
            "0.5623672008514404\n",
            "--------------------------------------------------------\n",
            "Linear Search {19006: 836.1841902356202, 40497: 844.1546066923997, 30940: 846.9386046225546, 51743: 850.7902209122999, 28676: 853.4535722580345, 44598: 864.8849634488971, 22311: 876.1244203878807, 53810: 876.2870534248466, 33170: 878.783249726575, 39538: 879.8533968792756}\n",
            "1.0333845615386963 \n",
            "\n",
            "LSH [1178, 557, 45009, 37640, 57649, 57849, 35904, 844, 11019, 29708]\n",
            "0.3280220031738281\n",
            "--------------------------------------------------------\n",
            "Linear Search {1178: 329.17320668608494, 557: 372.4593937599104, 45009: 416.2355102583152, 37640: 420.3950523019984, 57649: 444.1542524844269, 57849: 444.2780660802421, 35904: 452.0973346526166, 844: 499.0621203818218, 11019: 499.06612788286884, 29708: 503.200755166365}\n",
            "0.8834385871887207 \n",
            "\n",
            "LSH [49309, 52095, 373, 15373, 44503, 49166, 21314, 795, 35920, 35605]\n",
            "0.34857654571533203\n",
            "--------------------------------------------------------\n",
            "Linear Search {49309: 556.3434191216788, 52095: 575.6518044790618, 373: 599.8349773062588, 15373: 656.175281460678, 44503: 671.148269758628, 49166: 671.370985372469, 21314: 682.6316722801544, 795: 686.730660448476, 35920: 698.9177347871494, 35605: 700.5697681173517}\n",
            "0.8372542858123779 \n",
            "\n",
            "LSH [34847, 13890, 90, 41416, 3618, 3259, 29385, 52134, 3661, 58091]\n",
            "0.21642541885375977\n",
            "--------------------------------------------------------\n",
            "Linear Search {41352: 655.8048490214143, 34847: 660.8048123311452, 13890: 670.7219990428225, 90: 678.4637057352442, 41416: 681.0198235000212, 3618: 699.0500697374974, 3259: 705.9263417666181, 29385: 708.9069050305548, 52134: 710.2809303367225, 44006: 712.28224742724}\n",
            "0.5594696998596191 \n",
            "\n",
            "LSH [30478, 14961, 33612, 34353, 5170, 143, 44743, 1715, 37819, 34572]\n",
            "0.23377633094787598\n",
            "--------------------------------------------------------\n",
            "Linear Search {30478: 501.0419144143532, 14961: 511.7841341815903, 33612: 548.4815402545468, 34353: 575.8992967524791, 5170: 578.7184116649478, 143: 581.7447894051136, 44743: 597.2210645983613, 1715: 622.2322717442419, 37819: 631.6826734999148, 34572: 639.2636388846154}\n",
            "0.6294336318969727 \n",
            "\n",
            "LSH [53101, 38261, 29023, 43267, 20405, 8661, 24228, 50291, 16150, 14536]\n",
            "0.24812006950378418\n",
            "--------------------------------------------------------\n",
            "Linear Search {9673: 709.9901407766167, 53101: 713.799691790351, 21199: 714.4844295014412, 15184: 731.4157504456682, 6321: 732.7516632529741, 23956: 733.8201414515685, 6585: 737.1716218086532, 40442: 738.038616875838, 26418: 740.4525643145548, 38261: 741.3285371547489}\n",
            "0.5271317958831787 \n",
            "\n",
            "LSH [47724, 9294, 40913, 55824, 2535, 58211]\n",
            "0.1541309356689453\n",
            "--------------------------------------------------------\n",
            "Linear Search {9547: 1268.86799943887, 13774: 1284.6427518964174, 58677: 1298.6415979784415, 37584: 1302.9896392527455, 27042: 1308.865539312576, 24033: 1317.1586844416279, 9130: 1322.171698381114, 24630: 1325.9079907746238, 19366: 1326.1044453586603, 7435: 1330.7896152284927}\n",
            "0.5552079677581787 \n",
            "\n",
            "\n",
            "\n",
            "\n",
            "The average runtime for LSH Search :  0.2671364307403564\n",
            "The average runtime for Linear Search :  0.7100706815719604\n"
          ]
        }
      ]
    },
    {
      "cell_type": "markdown",
      "source": [
        "##2) Plot for error values vs L and error value vs K"
      ],
      "metadata": {
        "id": "0-YpcMAwdOya"
      }
    },
    {
      "cell_type": "code",
      "source": [
        "# TODO: Write a function that computes the error measure\n",
        "def lsh_error(hashed_A,functions):\n",
        "    query_indices = [100,200,300,400,500,600,700,800,900,1000]\n",
        "    error = 0\n",
        "    for j in query_indices:\n",
        "        lsh_dist = 0\n",
        "        lshSearch = lsh_search(A,hashed_A,functions,j,3)\n",
        "        #print(lshSearch)\n",
        "        for x in lshSearch:\n",
        "            lshDist = l1(A[j],A[x])\n",
        "            lsh_dist+=lshDist\n",
        "        linear_dist = 0\n",
        "        linearSearchDict = linear_search(A,j,3)\n",
        "        linearSearch = list(linearSearchDict.keys())\n",
        "        #print(linearSearch)\n",
        "        for y in linearSearch:\n",
        "            linearDist = l1(A[j],A[y])\n",
        "            linear_dist+=linearDist\n",
        "        error+=(lsh_dist/linear_dist)\n",
        "    return error/10    \n"
      ],
      "metadata": {
        "id": "sXXaQUTccxNJ"
      },
      "execution_count": 15,
      "outputs": []
    },
    {
      "cell_type": "code",
      "source": [
        "#Calculating the error values when k=24 and L = [10,12,14,16,18,20]\n",
        "\n",
        "k = 24\n",
        "L = [10,12,14,16,18,20]\n",
        "error = []\n",
        "for i in L:\n",
        "  functions,hashed_A = lsh_setup(A,k,i)\n",
        "  err = lsh_error(hashed_A,functions)\n",
        "  error.append(err)\n",
        "print(error)"
      ],
      "metadata": {
        "colab": {
          "base_uri": "https://localhost:8080/"
        },
        "id": "XQPcfK2yc-C4",
        "outputId": "a7735ff0-e617-455c-9065-6bcb7b267a2e"
      },
      "execution_count": 16,
      "outputs": [
        {
          "output_type": "stream",
          "name": "stdout",
          "text": [
            "[1.0189080044414163, 1.0162462149930833, 1.0133378772933135, 1.0235216075017548, 1.0088494623565567, 1.0125386972777104]\n"
          ]
        }
      ]
    },
    {
      "cell_type": "code",
      "source": [
        "#Plotting the L vs Error graph:\n",
        "\n",
        "plt.plot(L,error)\n",
        "plt.xlabel('L - values')\n",
        "plt.ylabel('Error')\n",
        "plt.title('L vs. Error')\n",
        "plt.show()"
      ],
      "metadata": {
        "colab": {
          "base_uri": "https://localhost:8080/",
          "height": 472
        },
        "id": "W8K7V4iedFtG",
        "outputId": "33ce1a06-6426-4c91-c4c9-c877239e7fd3"
      },
      "execution_count": 17,
      "outputs": [
        {
          "output_type": "display_data",
          "data": {
            "text/plain": [
              "<Figure size 640x480 with 1 Axes>"
            ],
            "image/png": "[encoded data removed]"
          },
          "metadata": {}
        }
      ]
    },
    {
      "cell_type": "code",
      "source": [
        "#Calulating the error values when L = 10 and k = [16,18,20,22,24]\n",
        "\n",
        "L = 10\n",
        "k = [16,18,20,22,24]\n",
        "error = []\n",
        "for i in k:\n",
        "  functions,hashed_A = lsh_setup(A,i,L)\n",
        "  err = lsh_error(hashed_A,functions)\n",
        "  error.append(err)\n",
        "print(error)"
      ],
      "metadata": {
        "colab": {
          "base_uri": "https://localhost:8080/"
        },
        "id": "McuK817NdIPm",
        "outputId": "0ecf373e-d564-4066-bd48-1fc2b8b2a5b5"
      },
      "execution_count": 18,
      "outputs": [
        {
          "output_type": "stream",
          "name": "stdout",
          "text": [
            "[1.0068146272453986, 1.0124483469435446, 1.022997720010126, 1.0145051534216007, 1.0273278332694427]\n"
          ]
        }
      ]
    },
    {
      "cell_type": "code",
      "source": [
        "#Plotting the k vs. Error Graph\n",
        "\n",
        "plt.plot(k,error)\n",
        "plt.xlabel('k - values')\n",
        "plt.ylabel('Error')\n",
        "plt.title('k vs. Error')\n",
        "plt.show()"
      ],
      "metadata": {
        "colab": {
          "base_uri": "https://localhost:8080/",
          "height": 472
        },
        "id": "5TLpGuBJdJ1r",
        "outputId": "eeb77afd-64bf-4724-b057-584da6fe8fcc"
      },
      "execution_count": 19,
      "outputs": [
        {
          "output_type": "display_data",
          "data": {
            "text/plain": [
              "<Figure size 640x480 with 1 Axes>"
            ],
            "image/png": "[encoded data removed]"
          },
          "metadata": {}
        }
      ]
    },
    {
      "cell_type": "markdown",
      "source": [
        "##3) Plot the 10 nearest neighbors found by both methods."
      ],
      "metadata": {
        "id": "tkOoNCnLdVfB"
      }
    },
    {
      "cell_type": "code",
      "source": [
        "lsh100 = lshresults[0:1]\n",
        "print(lsh100)\n",
        "\n",
        "ls = lsresults.get(100)\n",
        "ls100 = list(ls.keys())\n",
        "\n",
        "print(ls100)"
      ],
      "metadata": {
        "colab": {
          "base_uri": "https://localhost:8080/"
        },
        "id": "ewTWuFEjdWka",
        "outputId": "d226e767-7972-416c-86ab-ff686e509568"
      },
      "execution_count": 20,
      "outputs": [
        {
          "output_type": "stream",
          "name": "stdout",
          "text": [
            "[[8196, 10123, 10873, 16007, 14710, 7464, 42395, 23398, 18531, 12444]]\n",
            "[8196, 28351, 21780, 14383, 37765, 24374, 18866, 28251, 25289, 10123]\n"
          ]
        }
      ]
    },
    {
      "cell_type": "code",
      "source": [
        "# Plots images at the specified rows and saves them each to files.\n",
        "def plot(A, row_nums, base_filename):\n",
        "    for row_num in row_nums:\n",
        "        patch = np.reshape(A[row_num, :], [20, 20])\n",
        "        im = Image.fromarray(patch)\n",
        "        if im.mode != 'RGB':\n",
        "            im = im.convert('RGB')\n",
        "        im.save(base_filename + \"-\" + str(row_num) + \".png\")"
      ],
      "metadata": {
        "id": "vnDgQ9rudZ2u"
      },
      "execution_count": 21,
      "outputs": []
    },
    {
      "cell_type": "code",
      "source": [
        "#Retrieving images of 10 nearest neighbors using LSH\n",
        "\n",
        "plot(A,lsh100[0],\"lshpics\")\n",
        "     "
      ],
      "metadata": {
        "id": "YA-fuAnPdbhG"
      },
      "execution_count": 22,
      "outputs": []
    },
    {
      "cell_type": "code",
      "source": [
        "og = [100]"
      ],
      "metadata": {
        "id": "zsKZPUZPdc0q"
      },
      "execution_count": 23,
      "outputs": []
    },
    {
      "cell_type": "code",
      "source": [
        "# Plotting the original image\n",
        "\n",
        "plot(A,og,\"Original_img\")"
      ],
      "metadata": {
        "id": "Axt8eQh6dcvM"
      },
      "execution_count": 24,
      "outputs": []
    }
  ]
}