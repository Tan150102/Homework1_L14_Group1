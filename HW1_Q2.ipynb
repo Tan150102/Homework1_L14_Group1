{
  "nbformat": 4,
  "nbformat_minor": 0,
  "metadata": {
    "colab": {
      "provenance": []
    },
    "kernelspec": {
      "name": "python3",
      "display_name": "Python 3"
    },
    "language_info": {
      "name": "python"
    }
  },
  "cells": [
    {
      "cell_type": "markdown",
      "source": [
        "(a) The drawback of using confidence is that it ignores the probability of B occurring in the absence of A. This means that a high confidence value may not necessarily imply a strong association between A and B. For example, consider a scenario where a customer who buys bread always buys butter as well. If we consider the rule \"bread → butter\", the confidence of this rule will be 100%. However, this does not necessarily mean that there is a strong association between bread and butter as it could be possible that most customers buy butter regardless of whether they buy bread or not.\n",
        "\n",
        "On the other hand, lift and conviction do not suffer from this drawback as they both take into account the probability of B occurring in the absence of A. Lift compares the actual probability of co-occurrence of A and B to the expected probability if they were independent, while conviction compares the actual frequency of A occurring without B to the frequency we would expect if A and B were independent.\n",
        "\n",
        "(b) Confidence and conviction are not symmetrical measures, while lift is symmetrical.\n",
        "\n",
        "To show that confidence is not symmetrical, consider two item sets A and B where A is a subset of B. In this case, conf(A → B) ≠ conf(B → A), as conf(A → B) will always be equal to 1 (since B always contains A) while conf(B → A) may not necessarily be 1.\n",
        "\n",
        "To show that conviction is not symmetrical, consider the same example as above. In this case, conv(A → B) ≠ conv(B → A), as conv(A → B) will always be equal to infinity (since S(B) = 1) while conv(B → A) may not necessarily be infinite.\n",
        "\n",
        "To show that lift is symmetrical, consider the definition of lift:\n",
        "lift(A → B) = conf(A → B) / S(B) = conf(B → A) / S(A) = lift(B → A)\n",
        "\n",
        "(c) Lift and conviction have the property that they reach their maximum achievable value for all perfect implications.\n",
        "\n",
        "For lift, the maximum value it can take is infinity, which occurs when A and B are always bought together and are never bought separately. This implies that lift will always reach its maximum value of infinity for all perfect implications.\n",
        "\n",
        "For conviction, the maximum value it can take is infinity, which occurs when S(B) = 0 (i.e., B never occurs) and conf(A → B) = 0 (i.e., A and B never occur together). In this case, conv(A → B) will be equal to infinity, which implies that conviction will always reach its maximum value of infinity for all perfect implications."
      ],
      "metadata": {
        "id": "IGJJK22y9YDp"
      }
    },
    {
      "cell_type": "code",
      "execution_count": null,
      "metadata": {
        "colab": {
          "base_uri": "https://localhost:8080/"
        },
        "id": "LBDVjhuPy1VS",
        "outputId": "29a2fd7a-6209-4410-834a-cbd01c3bda2a"
      },
      "outputs": [
        {
          "output_type": "stream",
          "name": "stdout",
          "text": [
            "('GRO85051',) -> ('FRO40251',) : 0.9983525535420099\n",
            "('DAI93865',) -> ('FRO40251',) : 0.9182692307692307\n",
            "('DAI43868',) -> ('SNA82528',) : 0.8040540540540541\n",
            "('FRO92469',) -> ('FRO40251',) : 0.8032979976442874\n",
            "('ELE92920',) -> ('DAI62779',) : 0.7326649958228906\n"
          ]
        }
      ],
      "source": [
        "from itertools import combinations\n",
        "from collections import defaultdict\n",
        "\n",
        "# Load dataset and remove duplicates\n",
        "data = []\n",
        "with open('/content/browsing.txt', 'r') as f:\n",
        "    for line in f:\n",
        "        items = set(line.strip().split())\n",
        "        data.append(list(items))\n",
        "\n",
        "# First pass to find frequent items\n",
        "min_support = 100\n",
        "item_counts = defaultdict(int)\n",
        "for basket in data:\n",
        "    for item in basket:\n",
        "        item_counts[item] += 1\n",
        "frequent_items = set(item for item, count in item_counts.items() if count >= min_support)\n",
        "\n",
        "# Second pass to find frequent itemsets of size 2\n",
        "itemset_counts = defaultdict(int)\n",
        "for basket in data:\n",
        "    for itemset in combinations(basket, 2):\n",
        "        if set(itemset).issubset(frequent_items):\n",
        "            itemset_counts[itemset] += 1\n",
        "frequent_itemsets = set(itemset for itemset, count in itemset_counts.items() if count >= min_support)\n",
        "\n",
        "# Generate association rules for pairs of items\n",
        "rules = []\n",
        "for itemset in frequent_itemsets:\n",
        "    for item in itemset:\n",
        "        antecedent = frozenset([item])\n",
        "        consequent = frozenset(frozenset(itemset) - antecedent)\n",
        "        confidence = itemset_counts[itemset] / item_counts[item]\n",
        "        rules.append((antecedent, consequent, confidence))\n",
        "\n",
        "# Sort rules by confidence and print top 5\n",
        "top_rules = sorted(rules, key=lambda x: (-x[2], tuple(x[0])))\n",
        "for antecedent, consequent, confidence in top_rules[:5]:\n",
        "    print(f\"{tuple(antecedent)} -> {tuple(consequent)} : {confidence}\")\n"
      ]
    },
    {
      "cell_type": "code",
      "source": [
        "from itertools import combinations\n",
        "from collections import defaultdict\n",
        "\n",
        "# Load dataset and remove duplicates\n",
        "data = []\n",
        "with open('/content/browsing.txt', 'r') as f:\n",
        "    for line in f:\n",
        "        items = set(line.strip().split())\n",
        "        data.append(list(items))\n",
        "\n",
        "# First pass to find frequent items\n",
        "min_support = 100\n",
        "item_counts = defaultdict(int)\n",
        "for basket in data:\n",
        "    for item in basket:\n",
        "        item_counts[item] += 1\n",
        "frequent_items = set(item for item, count in item_counts.items() if count >= min_support)\n",
        "\n",
        "# Second pass to find frequent itemsets of size 3\n",
        "itemset_counts = defaultdict(int)\n",
        "for basket in data:\n",
        "    for itemset in combinations(basket, 3):\n",
        "        if set(itemset).issubset(frequent_items):\n",
        "            itemset_counts[itemset] += 1\n",
        "frequent_itemsets = set(itemset for itemset, count in itemset_counts.items() if count >= min_support)\n",
        "\n",
        "# Generate association rules for pairs of items\n",
        "rules = []\n",
        "for itemset in frequent_itemsets:\n",
        "    for item in itemset:\n",
        "        antecedent = frozenset([item])\n",
        "        consequent = frozenset(frozenset(itemset) - antecedent)\n",
        "        confidence = itemset_counts[itemset] / item_counts[item]\n",
        "        rules.append((antecedent, consequent, confidence))\n",
        "\n",
        "# Sort rules by confidence and print top 5\n",
        "top_rules = sorted(rules, key=lambda x: (-x[2], tuple(x[0])))\n",
        "for antecedent, consequent, confidence in top_rules[:5]:\n",
        "    print(f\"{tuple(antecedent)} -> {tuple(consequent)} : {confidence}\")\n"
      ],
      "metadata": {
        "id": "lwZME1wl9X2Q",
        "colab": {
          "base_uri": "https://localhost:8080/"
        },
        "outputId": "8f46ddf6-f796-4106-b5e7-49fc735c5366"
      },
      "execution_count": null,
      "outputs": [
        {
          "output_type": "stream",
          "name": "stdout",
          "text": [
            "('GRO85051',) -> ('FRO40251', 'SNA80324') : 0.3871499176276771\n",
            "('FRO92469',) -> ('FRO40251', 'SNA80324') : 0.3498233215547703\n",
            "('SNA18336',) -> ('ELE92920', 'DAI62779') : 0.3342736248236953\n",
            "('GRO85051',) -> ('FRO40251', 'DAI62779') : 0.3039538714991763\n",
            "('GRO85051',) -> ('DAI75645', 'FRO40251') : 0.3014827018121911\n"
          ]
        }
      ]
    }
  ]
}