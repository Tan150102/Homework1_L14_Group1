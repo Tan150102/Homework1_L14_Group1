{
  "nbformat": 4,
  "nbformat_minor": 0,
  "metadata": {
    "colab": {
      "provenance": []
    },
    "kernelspec": {
      "name": "python3",
      "display_name": "Python 3"
    },
    "language_info": {
      "name": "python"
    }
  },
  "cells": [
    {
      "cell_type": "markdown",
      "source": [
        "(a) Proof:\n",
        "Let X be the event that the minhash value is \"don't know\" for a column with m 1's and n-m 0's.\n",
        "When we randomly choose k rows out of n, the probability that a particular 1 appears in none of the chosen rows is (1-k/n)^k. Since there are m 1's, the probability that all m 1's appear in none of the k rows is (1-k/n)^(km). Thus, P(X) is the probability that none of the m 1's appear in the k chosen rows, which is (1-k/n)^(km).\n",
        "Using the inequality (1-x)^y <= e^(-xy) for x in [0,1] and y >= 0, we have:\n",
        "P(X) = (1-k/n)^(km) <= e^(-km/n)\n",
        "Now, we want to find an upper bound on P(X). Since n is much larger than m or k, we can use the approximation:\n",
        "(1-x) ~ e^(-x) for small x\n",
        "So, we get:\n",
        "P(X) <= e^(-km/n)\n",
        "\n",
        "(b) Solution:\n",
        "We want P(X) <= e^(-10), i.e.,\n",
        "e^(-km/n) <= e^(-10)\n",
        "-km/n <= -10\n",
        "k/n >= 10m/n\n",
        "k >= 10m\n",
        "So, the smallest value of k that will ensure P(X) <= e^(-10) is k = 10m.\n",
        "\n",
        "(c) Example:\n",
        "Consider the following matrix with two columns S1 and S2:\n"
      ],
      "metadata": {
        "id": "2b0ROcvqPXet"
      }
    },
    {
      "cell_type": "code",
      "execution_count": null,
      "metadata": {
        "id": "h-B0F1-vPTyR"
      },
      "outputs": [],
      "source": [
        "  |  S1  |  S2  |\n",
        "1 |  1   |  0   |\n",
        "2 |  0   |  1   |\n",
        "3 |  1   |  1   |\n",
        "4 |  0   |  1   |\n"
      ]
    },
    {
      "cell_type": "markdown",
      "source": [
        "The Jaccard similarity of S1 and S2 is |S1 ∩ S2| / |S1 ∪ S2| = 1/3.\n",
        "Now, consider the cyclic permutations starting at row 1: (1,2,3,4), (2,3,4,1), (3,4,1,2), and (4,1,2,3).\n",
        "For the first permutation, the minhash values for S1 and S2 are 1 and 0, respectively.\n",
        "For the second permutation, the minhash values for S1 and S2 are 0 and 0, respectively.\n",
        "For the third permutation, the minhash values for S1 and S2 are 0 and 0, respectively.\n",
        "For the fourth permutation, the minhash values for S1 and S2 are 1 and 1, respectively.\n",
        "Thus, the probability (over cyclic permutations only) that the minhash values agree is 2/4 = 1/2, which is not equal to the Jaccard similarity of 1/3. Therefore, cyclic permutations are not sufficient to estimate the Jaccard similarity correctly for these columns.\n"
      ],
      "metadata": {
        "id": "t_Q9Xi6KPm_3"
      }
    }
  ]
}